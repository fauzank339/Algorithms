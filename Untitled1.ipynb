{
  "nbformat": 4,
  "nbformat_minor": 0,
  "metadata": {
    "colab": {
      "name": "Untitled1.ipynb",
      "provenance": []
    },
    "kernelspec": {
      "name": "python3",
      "display_name": "Python 3"
    },
    "language_info": {
      "name": "python"
    }
  },
  "cells": [
    {
      "cell_type": "code",
      "metadata": {
        "colab": {
          "base_uri": "https://localhost:8080/"
        },
        "id": "quNlQGIDlolZ",
        "outputId": "f52a9505-fbb4-4382-a1e9-db02c876616e"
      },
      "source": [
        "print(\"Abdullah\")"
      ],
      "execution_count": null,
      "outputs": [
        {
          "output_type": "stream",
          "name": "stdout",
          "text": [
            "Abdullah\n"
          ]
        }
      ]
    },
    {
      "cell_type": "code",
      "metadata": {
        "colab": {
          "base_uri": "https://localhost:8080/"
        },
        "id": "6KgLZjrMlshZ",
        "outputId": "848c6505-696e-4c92-bff7-6d21785868ff"
      },
      "source": [
        "for i in range(10):\n",
        "  print(i)"
      ],
      "execution_count": null,
      "outputs": [
        {
          "output_type": "stream",
          "name": "stdout",
          "text": [
            "0\n",
            "1\n",
            "2\n",
            "3\n",
            "4\n",
            "5\n",
            "6\n",
            "7\n",
            "8\n",
            "9\n"
          ]
        }
      ]
    },
    {
      "cell_type": "code",
      "metadata": {
        "id": "YuvSroWxl7oh"
      },
      "source": [
        "l=[2,4,6,8,10]"
      ],
      "execution_count": null,
      "outputs": []
    },
    {
      "cell_type": "code",
      "metadata": {
        "id": "IYF1i2GCmFN3",
        "outputId": "00c72989-d703-4990-dd71-481a589c430f",
        "colab": {
          "base_uri": "https://localhost:8080/"
        }
      },
      "source": [
        "l"
      ],
      "execution_count": null,
      "outputs": [
        {
          "output_type": "execute_result",
          "data": {
            "text/plain": [
              "[2, 4, 6, 8, 10]"
            ]
          },
          "metadata": {},
          "execution_count": 4
        }
      ]
    },
    {
      "cell_type": "code",
      "metadata": {
        "id": "JJpvDUNkmGGu",
        "colab": {
          "base_uri": "https://localhost:8080/"
        },
        "outputId": "4462acc1-1f3a-44f9-f7e2-57588d7086b9"
      },
      "source": [
        "\n",
        "a=[1,2,3,4,5,6,6,8,9]\n",
        "def checkSort(a):\n",
        "  for i in range(1,len(a)):\n",
        "    if a[i]>=a[i-1]:\n",
        "      continue\n",
        "    else:\n",
        "      return \"not Sorted\"\n",
        "  return \"Sorted\"\n",
        "print(checkSort(a))    "
      ],
      "execution_count": null,
      "outputs": [
        {
          "output_type": "stream",
          "name": "stdout",
          "text": [
            "Sorted\n"
          ]
        }
      ]
    },
    {
      "cell_type": "code",
      "source": [
        "a=[1,2,3,4,5,6,6,8,9]\n",
        "\n",
        "def DoReverse(a):\n",
        "  b=[]\n",
        "  for i in range(len(a)-1,-1,-1):\n",
        "    b.append(a[i])\n",
        "  return b"
      ],
      "metadata": {
        "id": "uuK_jdizyJyZ"
      },
      "execution_count": null,
      "outputs": []
    },
    {
      "cell_type": "code",
      "source": [
        "print(DoReverse(a))"
      ],
      "metadata": {
        "colab": {
          "base_uri": "https://localhost:8080/"
        },
        "id": "GIcHo3YZ0sYb",
        "outputId": "0b30ba2a-1016-4cf6-8071-a81cd945eb57"
      },
      "execution_count": null,
      "outputs": [
        {
          "output_type": "stream",
          "name": "stdout",
          "text": [
            "[9, 8, 6, 6, 5, 4, 3, 2, 1]\n"
          ]
        }
      ]
    },
    {
      "cell_type": "code",
      "source": [
        "def remDuplicates(a):\n",
        "  b=[]\n",
        "  b.append(a[0])\n",
        "  for i in range(1,len(a)):\n",
        "    if a[i]!=a[i-1]:\n",
        "      b.append(a[i])\n",
        "  return b\n",
        "\n",
        "print(remDuplicates(a))"
      ],
      "metadata": {
        "colab": {
          "base_uri": "https://localhost:8080/"
        },
        "id": "QOH7YoJo0weu",
        "outputId": "47e6d19d-9cbd-451a-eaac-4eedfba24f44"
      },
      "execution_count": null,
      "outputs": [
        {
          "output_type": "stream",
          "name": "stdout",
          "text": [
            "[1, 2, 3, 4, 5, 6, 8, 9]\n"
          ]
        }
      ]
    },
    {
      "cell_type": "code",
      "source": [
        "\n",
        "arr=[23,9,0,43,0,23,56,0]\n",
        "def MovZeros(arr):\n",
        "  b=[]\n",
        "  count=0\n",
        "  for i in range(len(arr)):\n",
        "    if arr[i]!=0:\n",
        "      b.append(arr[i])\n",
        "    else:\n",
        "      count+=1\n",
        "  for i in range(count):\n",
        "    b.append(0)\n",
        "  return b\n",
        "\n",
        "print(MovZeros(arr))"
      ],
      "metadata": {
        "colab": {
          "base_uri": "https://localhost:8080/"
        },
        "id": "cZOdGki_8l5H",
        "outputId": "33cbc7ce-1f6d-457c-8df3-4d7f5f0c72f2"
      },
      "execution_count": null,
      "outputs": [
        {
          "output_type": "stream",
          "name": "stdout",
          "text": [
            "[23, 9, 43, 23, 56, 0, 0, 0]\n"
          ]
        }
      ]
    },
    {
      "cell_type": "code",
      "source": [
        "def leftRotatebyone(arr):\n",
        "  n=len(arr)\n",
        "  temp = arr[0]\n",
        "  for i in range(len(arr)-1):\n",
        "    arr[i]=arr[i+1]\n",
        "  arr[n-1]=temp\n",
        "  return arr\n",
        "print(leftRotatebyone(arr))\n",
        "      "
      ],
      "metadata": {
        "colab": {
          "base_uri": "https://localhost:8080/"
        },
        "id": "hku_cX1JGbXO",
        "outputId": "305c3e47-b8aa-4972-b87c-3cd5a0fc9563"
      },
      "execution_count": null,
      "outputs": [
        {
          "output_type": "stream",
          "name": "stdout",
          "text": [
            "[9, 0, 43, 0, 23, 56, 0, 23]\n"
          ]
        }
      ]
    },
    {
      "cell_type": "code",
      "source": [
        "def leftRotatebyD(arr,d):\n",
        "  n=len(arr)\n",
        "  temp=[arr[i] for i in range(d)]\n",
        "  for i in range(d):\n",
        "    arr.remove(arr[0])\n",
        "  return arr+temp\n",
        "\n",
        "arr=[2,5,8,10,12,14]\n",
        "print(leftRotatebyD(arr,3))"
      ],
      "metadata": {
        "id": "EPG9RmXvh34n",
        "colab": {
          "base_uri": "https://localhost:8080/"
        },
        "outputId": "9e3c4e24-5cea-48de-a34a-e0ea8bd24955"
      },
      "execution_count": null,
      "outputs": [
        {
          "output_type": "stream",
          "name": "stdout",
          "text": [
            "[10, 12, 14, 2, 5, 8]\n"
          ]
        }
      ]
    },
    {
      "cell_type": "code",
      "source": [
        ""
      ],
      "metadata": {
        "id": "C4Xq3atT7NjT"
      },
      "execution_count": null,
      "outputs": []
    },
    {
      "cell_type": "code",
      "source": [
        ""
      ],
      "metadata": {
        "colab": {
          "base_uri": "https://localhost:8080/"
        },
        "id": "BYDci1lT0qML",
        "outputId": "c9e9edf9-86b3-42a3-ff7b-961f6ca84e4d"
      },
      "execution_count": null,
      "outputs": [
        {
          "output_type": "execute_result",
          "data": {
            "text/plain": [
              "[6, 8, 90, 67, 65, 9]"
            ]
          },
          "metadata": {},
          "execution_count": 3
        }
      ]
    },
    {
      "cell_type": "code",
      "source": [
        "def rightRotateByOne(arr):\n",
        "  n=len(arr)\n",
        "  temp = arr[n-1]\n",
        "  for i in range(n-1,-1,-1):\n",
        "    arr[i]=arr[i-1]\n",
        "  arr[0]=temp\n",
        "  return arr\n",
        "arr = [1,2,3,4,5,6]\n",
        "print(rightRotateByOne(arr))"
      ],
      "metadata": {
        "id": "Y4CaidTk01I6",
        "colab": {
          "base_uri": "https://localhost:8080/"
        },
        "outputId": "b1cd60e1-2c3f-4153-c857-573dcd3c9bf1"
      },
      "execution_count": null,
      "outputs": [
        {
          "output_type": "stream",
          "name": "stdout",
          "text": [
            "[6, 1, 2, 3, 4, 5]\n"
          ]
        }
      ]
    },
    {
      "cell_type": "code",
      "source": [
        "def rightRotateByD(arr,d):\n",
        "  for i in range(d):\n",
        "    rightRotateByOne(arr)\n",
        "  return arr\n",
        "d=2\n",
        "arr=[1,2,3,4,5,6]\n",
        "\n",
        "print(rightRotateByD(arr,d))"
      ],
      "metadata": {
        "colab": {
          "base_uri": "https://localhost:8080/"
        },
        "id": "x1EpSAVQwqSy",
        "outputId": "65cdffa1-8be8-4e3e-c624-552a8f1509da"
      },
      "execution_count": null,
      "outputs": [
        {
          "output_type": "stream",
          "name": "stdout",
          "text": [
            "[5, 6, 1, 2, 3, 4]\n"
          ]
        }
      ]
    },
    {
      "cell_type": "code",
      "source": [
        ""
      ],
      "metadata": {
        "id": "n2do88wDzBBR"
      },
      "execution_count": null,
      "outputs": []
    }
  ]
}